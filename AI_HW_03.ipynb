{
 "cells": [
  {
   "cell_type": "code",
   "execution_count": 3,
   "metadata": {},
   "outputs": [
    {
     "name": "stdout",
     "output_type": "stream",
     "text": [
      "1\n",
      "2\n",
      "4\n",
      "7\n",
      "13\n",
      "1411701124\n"
     ]
    },
    {
     "ename": "KeyboardInterrupt",
     "evalue": "Interrupted by user",
     "output_type": "error",
     "traceback": [
      "\u001b[0;31m---------------------------------------------------------------------------\u001b[0m",
      "\u001b[0;31mKeyboardInterrupt\u001b[0m                         Traceback (most recent call last)",
      "Cell \u001b[0;32mIn[3], line 27\u001b[0m\n\u001b[1;32m     24\u001b[0m t \u001b[39m=\u001b[39m \u001b[39mint\u001b[39m(\u001b[39minput\u001b[39m()) \u001b[39m# 테스트 케이스 수\u001b[39;00m\n\u001b[1;32m     26\u001b[0m \u001b[39mfor\u001b[39;00m _ \u001b[39min\u001b[39;00m \u001b[39mrange\u001b[39m(t):\n\u001b[0;32m---> 27\u001b[0m     n \u001b[39m=\u001b[39m \u001b[39mint\u001b[39m(\u001b[39minput\u001b[39;49m()) \u001b[39m# 돌다리의 개수 n\u001b[39;00m\n\u001b[1;32m     29\u001b[0m     cnt \u001b[39m=\u001b[39m count_ways(n)\n\u001b[1;32m     31\u001b[0m     \u001b[39mprint\u001b[39m(cnt \u001b[39m%\u001b[39m \u001b[39m1904101441\u001b[39m)\n",
      "File \u001b[0;32m~/anaconda3/envs/midoi/lib/python3.11/site-packages/ipykernel/kernelbase.py:1202\u001b[0m, in \u001b[0;36mKernel.raw_input\u001b[0;34m(self, prompt)\u001b[0m\n\u001b[1;32m   1200\u001b[0m     msg \u001b[39m=\u001b[39m \u001b[39m\"\u001b[39m\u001b[39mraw_input was called, but this frontend does not support input requests.\u001b[39m\u001b[39m\"\u001b[39m\n\u001b[1;32m   1201\u001b[0m     \u001b[39mraise\u001b[39;00m StdinNotImplementedError(msg)\n\u001b[0;32m-> 1202\u001b[0m \u001b[39mreturn\u001b[39;00m \u001b[39mself\u001b[39;49m\u001b[39m.\u001b[39;49m_input_request(\n\u001b[1;32m   1203\u001b[0m     \u001b[39mstr\u001b[39;49m(prompt),\n\u001b[1;32m   1204\u001b[0m     \u001b[39mself\u001b[39;49m\u001b[39m.\u001b[39;49m_parent_ident[\u001b[39m\"\u001b[39;49m\u001b[39mshell\u001b[39;49m\u001b[39m\"\u001b[39;49m],\n\u001b[1;32m   1205\u001b[0m     \u001b[39mself\u001b[39;49m\u001b[39m.\u001b[39;49mget_parent(\u001b[39m\"\u001b[39;49m\u001b[39mshell\u001b[39;49m\u001b[39m\"\u001b[39;49m),\n\u001b[1;32m   1206\u001b[0m     password\u001b[39m=\u001b[39;49m\u001b[39mFalse\u001b[39;49;00m,\n\u001b[1;32m   1207\u001b[0m )\n",
      "File \u001b[0;32m~/anaconda3/envs/midoi/lib/python3.11/site-packages/ipykernel/kernelbase.py:1245\u001b[0m, in \u001b[0;36mKernel._input_request\u001b[0;34m(self, prompt, ident, parent, password)\u001b[0m\n\u001b[1;32m   1242\u001b[0m \u001b[39mexcept\u001b[39;00m \u001b[39mKeyboardInterrupt\u001b[39;00m:\n\u001b[1;32m   1243\u001b[0m     \u001b[39m# re-raise KeyboardInterrupt, to truncate traceback\u001b[39;00m\n\u001b[1;32m   1244\u001b[0m     msg \u001b[39m=\u001b[39m \u001b[39m\"\u001b[39m\u001b[39mInterrupted by user\u001b[39m\u001b[39m\"\u001b[39m\n\u001b[0;32m-> 1245\u001b[0m     \u001b[39mraise\u001b[39;00m \u001b[39mKeyboardInterrupt\u001b[39;00m(msg) \u001b[39mfrom\u001b[39;00m \u001b[39mNone\u001b[39;00m\n\u001b[1;32m   1246\u001b[0m \u001b[39mexcept\u001b[39;00m \u001b[39mException\u001b[39;00m:\n\u001b[1;32m   1247\u001b[0m     \u001b[39mself\u001b[39m\u001b[39m.\u001b[39mlog\u001b[39m.\u001b[39mwarning(\u001b[39m\"\u001b[39m\u001b[39mInvalid Message:\u001b[39m\u001b[39m\"\u001b[39m, exc_info\u001b[39m=\u001b[39m\u001b[39mTrue\u001b[39;00m)\n",
      "\u001b[0;31mKeyboardInterrupt\u001b[0m: Interrupted by user"
     ]
    }
   ],
   "source": [
    "def count_ways(n):\n",
    "\n",
    "    # 돌다리 개수에 따른 방법 수 저장할 리스트\n",
    "    ways = [0] * (n+1)\n",
    "\n",
    "    # 초기값\n",
    "    ways[0] = 1 \n",
    "\n",
    "    # 동적 프로그래밍 \n",
    "    for i in range(1, n+1):\n",
    "\n",
    "        if i >= 1:\n",
    "            ways[i] += ways[i-1] #w[0] \n",
    "        \n",
    "        if i >= 2 :\n",
    "            ways[i] += ways[i-2] # w[0]\n",
    "\n",
    "        if i >= 3:\n",
    "            ways[i] += ways[i-3] # w[0]\n",
    "    \n",
    "    return ways[n]\n",
    "\n",
    "\n",
    "t = int(input()) # 테스트 케이스 수\n",
    "\n",
    "for _ in range(t):\n",
    "    n = int(input()) # 돌다리의 개수 n\n",
    "\n",
    "    cnt = count_ways(n)\n",
    "\n",
    "    print(cnt % 1904101441)"
   ]
  },
  {
   "cell_type": "code",
   "execution_count": null,
   "metadata": {},
   "outputs": [],
   "source": [
    "def dfs(x): # x까지 도달하는 방법의 수를 구하는 함수\n",
    "    global ways\n",
    "\n",
    "    if ways[x] > 0:\n",
    "        return ways[x]\n",
    "    \n",
    "    if x == 1 or x == 2:\n",
    "        return x\n",
    "    \n",
    "    else: \n",
    "        ways[x] = ways[x-1] + ways[x-2]\n",
    "        return ways[x]\n",
    "\n",
    "\n",
    "t = int(input())\n",
    "for _ in range(t):\n",
    "    n = int(input())\n",
    "\n",
    "    ways = [0] * (n+2) # n+1까지 가야 육지에 도달한 것\n",
    "\n",
    "    print(dfs(n+1)) # n+1까지 가는 방법의 수 출력"
   ]
  }
 ],
 "metadata": {
  "kernelspec": {
   "display_name": "midoi",
   "language": "python",
   "name": "python3"
  },
  "language_info": {
   "codemirror_mode": {
    "name": "ipython",
    "version": 3
   },
   "file_extension": ".py",
   "mimetype": "text/x-python",
   "name": "python",
   "nbconvert_exporter": "python",
   "pygments_lexer": "ipython3",
   "version": "3.11.4"
  },
  "orig_nbformat": 4
 },
 "nbformat": 4,
 "nbformat_minor": 2
}
