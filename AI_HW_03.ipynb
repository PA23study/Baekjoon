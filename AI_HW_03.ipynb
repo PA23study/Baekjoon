{
 "cells": [
  {
   "cell_type": "code",
   "execution_count": 2,
   "metadata": {},
   "outputs": [
    {
     "name": "stdout",
     "output_type": "stream",
     "text": [
      "n=1일때 방법의 수 1\n",
      "1\n",
      "n=2일때 방법의 수 2\n",
      "2\n",
      "n=3일때 방법의 수 4\n",
      "4\n",
      "n=4일때 방법의 수 5\n",
      "5\n",
      "n=5일때 방법의 수 4\n",
      "4\n",
      "n=10일때 방법의 수 13\n",
      "13\n"
     ]
    },
    {
     "ename": "ValueError",
     "evalue": "invalid literal for int() with base 10: ''",
     "output_type": "error",
     "traceback": [
      "\u001b[0;31m---------------------------------------------------------------------------\u001b[0m",
      "\u001b[0;31mValueError\u001b[0m                                Traceback (most recent call last)",
      "Cell \u001b[0;32mIn[2], line 4\u001b[0m\n\u001b[1;32m      1\u001b[0m t \u001b[39m=\u001b[39m \u001b[39mint\u001b[39m(\u001b[39minput\u001b[39m())\n\u001b[1;32m      3\u001b[0m \u001b[39mfor\u001b[39;00m _ \u001b[39min\u001b[39;00m \u001b[39mrange\u001b[39m(t):\n\u001b[0;32m----> 4\u001b[0m     n \u001b[39m=\u001b[39m \u001b[39mint\u001b[39;49m(\u001b[39minput\u001b[39;49m()) \u001b[39m# 돌다리의 개수 n\u001b[39;00m\n\u001b[1;32m      6\u001b[0m     cnt \u001b[39m=\u001b[39m \u001b[39m0\u001b[39m \u001b[39m# n번째 돌다리까지 도달할 수 있는 방법의 수\u001b[39;00m\n\u001b[1;32m      8\u001b[0m     \u001b[39m# 1을 만들 수 있는 경우의 수 : 1 ==> 1가지\u001b[39;00m\n\u001b[1;32m      9\u001b[0m     \u001b[39m# 2를 만들 수 있는 경우의 수 : 1+1, 2 ==> 2가지\u001b[39;00m\n\u001b[1;32m     10\u001b[0m     \u001b[39m# 3을 먄들 수 있는 경우의 수 : 1+1+1, 1+2, 2+1, 3 ==> 4가지\u001b[39;00m\n",
      "\u001b[0;31mValueError\u001b[0m: invalid literal for int() with base 10: ''"
     ]
    }
   ],
   "source": [
    "t = int(input())\n",
    "\n",
    "for _ in range(t):\n",
    "    n = int(input()) # 돌다리의 개수 n\n",
    "\n",
    "    cnt = 0 # n번째 돌다리까지 도달할 수 있는 방법의 수\n",
    "\n",
    "    # 1을 만들 수 있는 경우의 수 : 1 ==> 1가지\n",
    "    # 2를 만들 수 있는 경우의 수 : 1+1, 2 ==> 2가지\n",
    "    # 3을 먄들 수 있는 경우의 수 : 1+1+1, 1+2, 2+1, 3 ==> 4가지\n",
    "\n",
    "    \n",
    "    if n // 3 > 0 :\n",
    "        a = n // 3\n",
    "        cnt += 4 * a # 1,2,3을 이용해서 만들 수 있는 경우의 수 \n",
    "\n",
    "        # 2로만 만들 수 있는 경우의 수 \n",
    "        if n % 2 == 0:\n",
    "            b = n // 2\n",
    "            cnt += 1\n",
    "\n",
    "\n",
    "    elif n // 3 <= 0 : # n = 1 or n = 2\n",
    "        if n == 1: cnt = 1\n",
    "        elif n == 2: cnt = 2\n",
    "\n",
    "    print(f'n={n}일때 방법의 수 {cnt}')\n",
    "\n",
    "    print(cnt % 1904101441)"
   ]
  },
  {
   "cell_type": "markdown",
   "metadata": {},
   "source": [
    "n = 1 -> 1\n",
    "n = 2 -> 1+1 / 2\n",
    "n = 3 -> 1+1+1 / 1+2 / 2+1 / 3\n",
    "n = 4 -> 1+1+1+1 / 1+1+2 / 1+2+1 / 1+3 / 2+1+1 / 2+2 / 3+1 \n",
    "n = 5 -> 1+1+1+1+1 / 1+1+1+2 / 1+1+3 / 1+2+2 / 2+1+1+1...\n",
    "\n",
    "3+3+3+2\n"
   ]
  }
 ],
 "metadata": {
  "kernelspec": {
   "display_name": "midoi",
   "language": "python",
   "name": "python3"
  },
  "language_info": {
   "codemirror_mode": {
    "name": "ipython",
    "version": 3
   },
   "file_extension": ".py",
   "mimetype": "text/x-python",
   "name": "python",
   "nbconvert_exporter": "python",
   "pygments_lexer": "ipython3",
   "version": "3.11.4"
  },
  "orig_nbformat": 4
 },
 "nbformat": 4,
 "nbformat_minor": 2
}
