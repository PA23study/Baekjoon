{
 "cells": [
  {
   "cell_type": "code",
   "execution_count": 2,
   "metadata": {},
   "outputs": [
    {
     "ename": "IndexError",
     "evalue": "list index out of range",
     "output_type": "error",
     "traceback": [
      "\u001b[0;31m---------------------------------------------------------------------------\u001b[0m",
      "\u001b[0;31mIndexError\u001b[0m                                Traceback (most recent call last)",
      "Cell \u001b[0;32mIn[2], line 38\u001b[0m\n\u001b[1;32m     36\u001b[0m \u001b[39mfor\u001b[39;00m i \u001b[39min\u001b[39;00m \u001b[39mrange\u001b[39m(n):\n\u001b[1;32m     37\u001b[0m     \u001b[39mfor\u001b[39;00m j \u001b[39min\u001b[39;00m \u001b[39mrange\u001b[39m(m):\n\u001b[0;32m---> 38\u001b[0m         \u001b[39mif\u001b[39;00m dfs(i, j) \u001b[39m==\u001b[39m \u001b[39mTrue\u001b[39;00m:\n\u001b[1;32m     39\u001b[0m             cnt \u001b[39m+\u001b[39m\u001b[39m=\u001b[39m \u001b[39m1\u001b[39m\n\u001b[1;32m     42\u001b[0m \u001b[39mprint\u001b[39m(cnt)\n",
      "Cell \u001b[0;32mIn[2], line 11\u001b[0m, in \u001b[0;36mdfs\u001b[0;34m(x, y)\u001b[0m\n\u001b[1;32m      7\u001b[0m \u001b[39mif\u001b[39;00m x\u001b[39m-\u001b[39m\u001b[39m1\u001b[39m \u001b[39m<\u001b[39m \u001b[39m0\u001b[39m \u001b[39mor\u001b[39;00m y\u001b[39m-\u001b[39m\u001b[39m1\u001b[39m \u001b[39m<\u001b[39m\u001b[39m0\u001b[39m \u001b[39mor\u001b[39;00m x \u001b[39m>\u001b[39m\u001b[39m=\u001b[39m n \u001b[39mor\u001b[39;00m y\u001b[39m>\u001b[39m\u001b[39m=\u001b[39m m :\n\u001b[1;32m      8\u001b[0m     \u001b[39mreturn\u001b[39;00m \u001b[39mFalse\u001b[39;00m\n\u001b[0;32m---> 11\u001b[0m \u001b[39mif\u001b[39;00m graph[x][y] \u001b[39m==\u001b[39m \u001b[39m0\u001b[39m : \n\u001b[1;32m     13\u001b[0m     graph[x][y] \u001b[39m=\u001b[39m \u001b[39m1\u001b[39m \u001b[39m# 방문 저장\u001b[39;00m\n\u001b[1;32m     15\u001b[0m     dfs(x\u001b[39m-\u001b[39m\u001b[39m1\u001b[39m, y) \u001b[39m# 상\u001b[39;00m\n",
      "\u001b[0;31mIndexError\u001b[0m: list index out of range"
     ]
    }
   ],
   "source": [
    "# 음료수 얼려 먹기\n",
    "\n",
    "\n",
    "def dfs(x, y): # 상하좌우의 노드들이 1이면 하나의 얼음으로, 반복하여 방문하였는지 확인하는 함수\n",
    "    global graph\n",
    "    \n",
    "    if x-1 < 0 or y-1 <0 or x >= n or y>= m :\n",
    "        return False\n",
    "\n",
    "\n",
    "    if graph[x][y] == 0 : \n",
    "\n",
    "        graph[x][y] = 1 # 방문 저장\n",
    "\n",
    "        dfs(x-1, y) # 상\n",
    "        dfs(x+1, y) # 하\n",
    "        dfs(x, y-1)  # 좌\n",
    "        dfs(x, y+1) # 우\n",
    "\n",
    "        return True\n",
    "    \n",
    "    else : \n",
    "        return False\n",
    "\n",
    "\n",
    "\n",
    "\n",
    "n, m = map(int, input().split()) # 얼음 틀의 새로길이 n, 가로길이 m\n",
    "graph = [] \n",
    "\n",
    "for i in range(n):\n",
    "    graph.append(list(map(int, input().split()))) # 얼음 틀 n줄 입력받기 \n",
    "\n",
    "cnt = 0 # 얼음 갯수\n",
    "\n",
    "for i in range(n):\n",
    "    for j in range(m):\n",
    "        if dfs(i, j) == True:\n",
    "            cnt += 1\n",
    "\n",
    "\n",
    "print(cnt)\n",
    "        \n",
    "\n",
    "    "
   ]
  },
  {
   "cell_type": "code",
   "execution_count": null,
   "metadata": {},
   "outputs": [],
   "source": []
  }
 ],
 "metadata": {
  "kernelspec": {
   "display_name": "midoi",
   "language": "python",
   "name": "python3"
  },
  "language_info": {
   "codemirror_mode": {
    "name": "ipython",
    "version": 3
   },
   "file_extension": ".py",
   "mimetype": "text/x-python",
   "name": "python",
   "nbconvert_exporter": "python",
   "pygments_lexer": "ipython3",
   "version": "3.11.4"
  },
  "orig_nbformat": 4
 },
 "nbformat": 4,
 "nbformat_minor": 2
}
