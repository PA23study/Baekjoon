{
 "cells": [
  {
   "cell_type": "code",
   "execution_count": null,
   "metadata": {},
   "outputs": [],
   "source": [
    "import pandas as pd\n",
    "import numpy as np"
   ]
  },
  {
   "cell_type": "markdown",
   "metadata": {},
   "source": [
    "그리디 : 현재 상황에서 가장 좋아 보이는 것만을 선택하는 알고리즘"
   ]
  },
  {
   "cell_type": "markdown",
   "metadata": {},
   "source": [
    "실전문제 2. 큰 수의 법칙\n",
    "\n",
    "배열의 크기 N, 숫자가 더해지는 횟수 M, 주어지는 자연수 K"
   ]
  },
  {
   "cell_type": "code",
   "execution_count": 2,
   "metadata": {},
   "outputs": [
    {
     "data": {
      "text/plain": [
       "[2, 4, 5, 4, 6]"
      ]
     },
     "execution_count": 2,
     "metadata": {},
     "output_type": "execute_result"
    }
   ],
   "source": [
    "n, m, k = map(int, input('n, m, k를 입력하세요:').split())\n",
    "\n",
    "# N개의 수를 공백으로 구분하여 입력받기\n",
    "data = list(map(int, input('N개의 수를 입력하세요: ').split()))\n",
    "\n",
    "data"
   ]
  },
  {
   "cell_type": "code",
   "execution_count": 21,
   "metadata": {},
   "outputs": [
    {
     "name": "stdout",
     "output_type": "stream",
     "text": [
      "[6, 5, 4, 4, 2]\n",
      "M=8, K=3\n",
      "6 2\n",
      "36 10 46\n"
     ]
    }
   ],
   "source": [
    "data.sort(reverse=True) # 입력받은 수 정렬\n",
    "print (data)\n",
    "print(f'M=%d, K=%d'%(m, k))\n",
    "\n",
    "# 답은 (6+6+6+5)+(6+6+6+5) = 46\n",
    "\n",
    "# 가장 큰 수가 더해지는 횟수\n",
    "cnta = m//(k+1) * k + m%(k+1)\n",
    "# 두번째로 큰 수가 더해지는 횟수\n",
    "cntb = m//(k+1)\n",
    "\n",
    "print(cnta, cntb)\n",
    "\n",
    "\n",
    "resulta = data[0] * cnta\n",
    "resultb = data[1] * cntb\n",
    "\n",
    "result_total = resulta + resultb\n",
    "\n",
    "print(resulta, resultb, result_total)"
   ]
  },
  {
   "cell_type": "markdown",
   "metadata": {},
   "source": [
    "note: K가 아닌, K+1 단위로 생각하기"
   ]
  },
  {
   "cell_type": "markdown",
   "metadata": {},
   "source": [
    "실전문제 3. 숫자 카드 게임\n",
    "\n",
    "선택된 행에 놓여있는 카드들 중 가장 숫자가 낮은 카드 뽑기"
   ]
  },
  {
   "cell_type": "code",
   "execution_count": 4,
   "metadata": {},
   "outputs": [
    {
     "name": "stdout",
     "output_type": "stream",
     "text": [
      "n=3, m=3\n"
     ]
    }
   ],
   "source": [
    "# 행의개수 N, 열의개수 M 입력받기\n",
    "\n",
    "n, m = map(int, input('n, m을 입력하세요:').split())\n",
    "\n",
    "print(f'n={n}, m={m}')"
   ]
  },
  {
   "cell_type": "code",
   "execution_count": 5,
   "metadata": {},
   "outputs": [
    {
     "name": "stdout",
     "output_type": "stream",
     "text": [
      "data=[3, 1, 2]\n",
      "min_row = 1\n",
      "min_value=1\n",
      "data=[4, 1, 4]\n",
      "min_row = 1\n",
      "min_value=1\n",
      "data=[2, 2, 2]\n",
      "min_row = 2\n",
      "min_value=2\n",
      "2\n"
     ]
    }
   ],
   "source": [
    "# 각 카드에 적힌 숫자 입력하기\n",
    "min_value = 0\n",
    "\n",
    "for i in range(0, n):\n",
    "\n",
    "    data = list(map(int, input().split()))\n",
    "    print(f'data={data}')\n",
    "    \n",
    "    # 현재 행에서 가장 작은 수\n",
    "    min_row = min(data)\n",
    "    print(f'min_row = {min_row}')\n",
    "\n",
    "    # 가장 작은 수 중에서 큰 수 찾기\n",
    "    min_value = max(min_row, min_value)\n",
    "    print(f'min_value={min_value}')\n",
    "\n",
    "\n",
    "\n",
    "print(min_value)"
   ]
  },
  {
   "cell_type": "markdown",
   "metadata": {},
   "source": [
    "* note: matrix를 만들 때에는 행 별로 입력받는다. \n",
    "행 내에서 최소값을 처리한다. "
   ]
  },
  {
   "cell_type": "markdown",
   "metadata": {},
   "source": [
    "실전문제 4. 1이 될 때까지 \n",
    "\n",
    "어떠한 수 N이 1이 될 때까지 다음 두 과정 중 하나를 반복한다. 단, 두 번째 연산은 N이 K로 나누어떨어질 때만 선택할 수 있다.\n",
    "\n",
    "1. N에서 1을 뺀다.\n",
    "2. N을 K로 나눈다.\n",
    "\n",
    "N이 1이 될 때까지 과정을 수행해야 하는 횟수의 최솟값을 출력한다."
   ]
  },
  {
   "cell_type": "code",
   "execution_count": 24,
   "metadata": {},
   "outputs": [],
   "source": [
    "n, k = list(map(int, input('n, k를 입력하세요: ').split()))"
   ]
  },
  {
   "cell_type": "code",
   "execution_count": 25,
   "metadata": {},
   "outputs": [
    {
     "name": "stdout",
     "output_type": "stream",
     "text": [
      "n=25, k=5\n",
      "n= 5.0\n",
      "n= 1.0\n",
      "2\n"
     ]
    }
   ],
   "source": [
    "print(f'n={n}, k={k}')\n",
    "\n",
    "cnt = 0\n",
    "\n",
    "while(n>=1):\n",
    "\n",
    "    if (n==1):\n",
    "        break\n",
    "    \n",
    "    if(n%k == 0):\n",
    "        n /= k\n",
    "        cnt += 1\n",
    "\n",
    "\n",
    "    else :\n",
    "        n -= 1\n",
    "        cnt += 1\n",
    "    \n",
    "    print('n=',n)\n",
    "\n",
    "\n",
    "print(cnt)\n",
    "    "
   ]
  },
  {
   "cell_type": "code",
   "execution_count": 26,
   "metadata": {},
   "outputs": [
    {
     "name": "stdout",
     "output_type": "stream",
     "text": [
      "4\n"
     ]
    }
   ],
   "source": [
    "# 예시 답안\n",
    "\n",
    "n, k = map(int, input().split())\n",
    "\n",
    "cnt = 0\n",
    "\n",
    "# N이 K보다 클때까지 K로 계속 나누기\n",
    "while n>=k :\n",
    "    while n%k != 0 :\n",
    "        n -= 1\n",
    "        cnt += 1\n",
    "\n",
    "    n //= k \n",
    "    cnt += 1\n",
    "\n",
    "# 마지막으로 남은 수에 대하여 1씩 빼기\n",
    "while n > 1:\n",
    "    n -= 1\n",
    "    cnt += 1\n",
    "\n",
    "\n",
    "print(cnt)"
   ]
  },
  {
   "cell_type": "markdown",
   "metadata": {},
   "source": [
    "* note : N이 K로 나누어떨어질때까지 1을 빼기, N이 K보다 클 때까지 K로 나누기\n"
   ]
  },
  {
   "cell_type": "code",
   "execution_count": 27,
   "metadata": {},
   "outputs": [
    {
     "name": "stdout",
     "output_type": "stream",
     "text": [
      "2\n"
     ]
    }
   ],
   "source": [
    "# 예시 답안 2 \n",
    "\n",
    "n, k = map(int, input().split())\n",
    "\n",
    "cnt = 0\n",
    "\n",
    "while True:\n",
    "\n",
    "    target = (n//k)*k   # (8//3)*3 = 6  --> K로 나눌 수 있을 때까지 \n",
    "\n",
    "    cnt += (n - target) # 8 - 6 = 2 --> 1을 빼기 , cnt = 2\n",
    "\n",
    "    n = target # n = 6\n",
    "\n",
    "    # N이 K보다 작을 때 (더이상 나눌 수 없을 때) 반복문 탙출\n",
    "    if n < k:\n",
    "        break\n",
    "    # K로 나누기\n",
    "    else: \n",
    "        n //= k # n = 3\n",
    "        cnt += 1\n",
    "\n",
    "    \n",
    "# 마지막으로 남은 수에 대하여 1씩 빼기\n",
    "cnt += (n-1)\n",
    "print(cnt)\n"
   ]
  },
  {
   "cell_type": "code",
   "execution_count": null,
   "metadata": {},
   "outputs": [],
   "source": []
  }
 ],
 "metadata": {
  "kernelspec": {
   "display_name": "midoiEnv",
   "language": "python",
   "name": "midoi"
  },
  "language_info": {
   "codemirror_mode": {
    "name": "ipython",
    "version": 3
   },
   "file_extension": ".py",
   "mimetype": "text/x-python",
   "name": "python",
   "nbconvert_exporter": "python",
   "pygments_lexer": "ipython3",
   "version": "3.11.4"
  },
  "orig_nbformat": 4
 },
 "nbformat": 4,
 "nbformat_minor": 2
}
