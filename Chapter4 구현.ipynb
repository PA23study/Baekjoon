{
 "cells": [
  {
   "cell_type": "code",
   "execution_count": 1,
   "metadata": {},
   "outputs": [],
   "source": [
    "import pandas as pd\n",
    "import numpy as np"
   ]
  },
  {
   "cell_type": "code",
   "execution_count": null,
   "metadata": {},
   "outputs": [],
   "source": []
  },
  {
   "cell_type": "markdown",
   "metadata": {},
   "source": [
    "예제 1. 상하좌우"
   ]
  },
  {
   "cell_type": "code",
   "execution_count": 11,
   "metadata": {},
   "outputs": [
    {
     "name": "stdout",
     "output_type": "stream",
     "text": [
      "n=5\n",
      "\n",
      "이동내용 :['R', 'R', 'R', 'U', 'D', 'D']\n",
      "\n",
      "3 4\n"
     ]
    }
   ],
   "source": [
    "n = int(input('이동할 계획을 입력하시오:'))\n",
    "m = list(input().split())\n",
    "\n",
    "print(f'n={n}\\n')\n",
    "print(f'이동내용 :{m}\\n')\n",
    "\n",
    "len_m = len(m)\n",
    "\n",
    "x = 1 # 행방향\n",
    "y = 1 # 열방향\n",
    "\n",
    "for i in range(len_m):\n",
    "    \n",
    "    if(m[i] == 'L'):\n",
    "        if(y-1 < 1):\n",
    "            continue\n",
    "        y -= 1\n",
    "\n",
    "    elif (m[i]=='R'):\n",
    "        if(y+1 > n):\n",
    "            continue\n",
    "        y += 1\n",
    "\n",
    "    elif( m[i]=='U'):\n",
    "        if(x-1 < 1):\n",
    "            continue\n",
    "        x -= 1\n",
    "\n",
    "    elif( m[i]=='D'):\n",
    "        if(x+1 > n):\n",
    "            continue\n",
    "        x += 1\n",
    "\n",
    "\n",
    "print(x,y)"
   ]
  },
  {
   "cell_type": "code",
   "execution_count": 14,
   "metadata": {},
   "outputs": [
    {
     "name": "stdout",
     "output_type": "stream",
     "text": [
      "1 2\n",
      "1 3\n",
      "1 4\n",
      "2 4\n",
      "3 4\n",
      "결과= 3 4\n"
     ]
    }
   ],
   "source": [
    "# 예시답안\n",
    "\n",
    "n = int(input())\n",
    "x, y = 1, 1\n",
    "plans = input().split()\n",
    "\n",
    "# 이동방향\n",
    "dx = [0, 0, -1, 1]\n",
    "dy = [-1, 1, 0, 0]\n",
    "move_types = ['L', 'R', 'U', 'D']\n",
    "\n",
    "\n",
    "for plan in plans:\n",
    "\n",
    "    for i in range(len(move_types)):\n",
    "        if plan == move_types[i]: # L, R, U, D 중 어떤 것인지 확인\n",
    "            nx = x + dx[i]\n",
    "            ny = y + dy[i]\n",
    "\n",
    "    # 공간을 벗어나는 경우 무시\n",
    "    if nx < 1 or ny < 1 or nx > n or ny > n:\n",
    "        continue\n",
    "\n",
    "    # 이동 수행\n",
    "    x, y = nx, ny\n",
    "\n",
    "    print(x, y)\n",
    "\n",
    "\n",
    "\n",
    "print('결과=',x, y)"
   ]
  },
  {
   "cell_type": "markdown",
   "metadata": {},
   "source": [
    "* note : move type에 맞추어 dx, dy list를 만든다. \n",
    "\n",
    "일단 이동하고, 규칙에 어긋나는지 확인 후 결과에 대입"
   ]
  },
  {
   "cell_type": "markdown",
   "metadata": {},
   "source": [
    "예제 2. 시각\n",
    "\n",
    "정수 N이 입력되면 00시 00분 00초부터 N시 59분 59초까지 모든 시각 중 3이 하나라도 포함되는 모든 경우의 수"
   ]
  },
  {
   "cell_type": "code",
   "execution_count": 27,
   "metadata": {},
   "outputs": [
    {
     "name": "stdout",
     "output_type": "stream",
     "text": [
      "11475\n"
     ]
    }
   ],
   "source": [
    "n = int(input('정수 N을 입력하세요:'))\n",
    "\n",
    "cnt = 0\n",
    "\n",
    "for i in range(n+1):\n",
    "    for j in range(60):\n",
    "        for k in range(60):\n",
    "            # 매 시각 안에 3이 포함되어 있다면 카운트 증가\n",
    "            if '3' in str(i)+str(j)+str(k):\n",
    "                cnt += 1\n",
    "\n",
    "print(cnt)\n",
    "\n"
   ]
  },
  {
   "cell_type": "markdown",
   "metadata": {},
   "source": [
    "* note : 시각을 032418 로 문자화하려면 -> str+str+str"
   ]
  },
  {
   "cell_type": "markdown",
   "metadata": {},
   "source": [
    "실전문제 2. 왕실의 나이트\n",
    "\n",
    "나이트는 특정한 위치에서 다음과 같은 2가지 경우로 이동할 수 있다.\n",
    "\n",
    "1. 수평으로 두 칸 이동한 뒤에 수직으로 한 칸 이동하기\n",
    "2. 수직으로 두 칸 이동한 뒤에 수평으로 한 칸 이동하기\n",
    "\n",
    "나이트가 이동할 수 있는 경우의 수 구하기"
   ]
  },
  {
   "cell_type": "code",
   "execution_count": 34,
   "metadata": {},
   "outputs": [
    {
     "data": {
      "text/plain": [
       "'a'"
      ]
     },
     "execution_count": 34,
     "metadata": {},
     "output_type": "execute_result"
    }
   ],
   "source": [
    "location = 'a1'\n",
    "\n",
    "location[0]\n"
   ]
  },
  {
   "cell_type": "code",
   "execution_count": 45,
   "metadata": {},
   "outputs": [
    {
     "name": "stdout",
     "output_type": "stream",
     "text": [
      "7 2\n",
      "x=7, y=0\n",
      "x=7, y=2\n",
      "i=1, x1=6, y1=2\n",
      "i=1, x2=8, y2=2\n",
      "x=5, y=2\n",
      "i=2, x2=5, y2=3\n",
      "x=7, y=2\n",
      "i=3, x2=7, y2=3\n",
      "4\n"
     ]
    }
   ],
   "source": [
    "\n",
    "# 8x8 평면상에서 현재 나이트가 위치한 곳의 좌표 입력받기\n",
    "location = input('나이트의 위치를 입력하세요:') # a1\n",
    "\n",
    "x = int(location[1])\n",
    "y = int(ord(location[0])) - int(ord('a')) + 1\n",
    "\n",
    "print(x, y)\n",
    "\n",
    "\n",
    "dx = [0, 0, -1, 1]\n",
    "dy = [-1, 1, 0, 0]\n",
    "move_types = ['L', 'R', 'U', 'D']\n",
    "# 나이트가 이동할 수 있는 경로: 2R+U, 2R+D, 2D+R, 2D+L .... 2*(LR/UD)+(UD/LR)\n",
    "\n",
    "cnt = 0\n",
    "for i in range(len(move_types)):\n",
    "    x = x + 2*dx[i]\n",
    "    y = y + 2*dy[i]\n",
    "    print(f'x={x}, y={y}')\n",
    "    \n",
    "    if i <= 1: #2*(LR)+UD\n",
    "        x1 = x + dx[2]\n",
    "        y1 = y + dy[2]\n",
    "\n",
    "        x2 = x+dx[3]\n",
    "        y2 = y+dy[3]\n",
    "\n",
    "    else : # 2*(UD)+LR\n",
    "        x1 = x + dx[0]\n",
    "        y1 = y + dy[0]\n",
    "\n",
    "        x2 = x + dx[1]\n",
    "        y2 = y + dy[1]\n",
    "\n",
    "    if (x1>1 or x1<9) and (y1>1 and y1<9):\n",
    "        print(f'i={i}, x1={x1}, y1={y1}')\n",
    "        cnt += 1\n",
    "    if (x2>1 or x2<9) and (y2>1 and y2<9):\n",
    "        print(f'i={i}, x2={x2}, y2={y2}')\n",
    "        cnt += 1\n",
    "\n",
    "    \n",
    "print(cnt)"
   ]
  },
  {
   "cell_type": "code",
   "execution_count": null,
   "metadata": {},
   "outputs": [],
   "source": []
  },
  {
   "cell_type": "code",
   "execution_count": 43,
   "metadata": {},
   "outputs": [
    {
     "name": "stdout",
     "output_type": "stream",
     "text": [
      "7 2\n",
      "row=5, col=1\n",
      "row=8, col=4\n",
      "row=6, col=4\n",
      "row=5, col=3\n",
      "4\n"
     ]
    }
   ],
   "source": [
    "# 예시 답안\n",
    "\n",
    "input_data = input()\n",
    "\n",
    "row = int(input_data[1])\n",
    "column = int(ord(input_data[0])) - int(ord('a')) + 1\n",
    "\n",
    "print(row, column)\n",
    "\n",
    "\n",
    "# 나이트가 이동할 수 있는 8가지 방향 정의\n",
    "steps = [(-2, -1), (-1, -2), (1, -2), (2, -1), (2, 1), (1,2), (-1, 2), (-2, 1)]\n",
    "\n",
    "# 8가지 방향에 대하여 각 위치로 이동이 가능한지 확인\n",
    "result = 0\n",
    "for step in steps:\n",
    "\n",
    "    next_row = row + step[0]\n",
    "    next_column = column + step[1]\n",
    "\n",
    "    # 해당 위치로 이동이 가능하다면 카운트 증가\n",
    "    if next_row >= 1 and next_row <=8 and next_column>=1 and next_column <= 8:\n",
    "        print(f'row={next_row}, col={next_column}')\n",
    "        result += 1\n",
    "\n",
    "\n",
    "print(result)\n",
    "\n"
   ]
  },
  {
   "cell_type": "markdown",
   "metadata": {},
   "source": [
    "* note : 파이썬 ord, chr 함수 : 아스키코드를 변환하는 함수"
   ]
  },
  {
   "cell_type": "code",
   "execution_count": null,
   "metadata": {},
   "outputs": [],
   "source": []
  },
  {
   "cell_type": "markdown",
   "metadata": {},
   "source": [
    "### 실전문제 4. 게임 개발\n",
    "\n",
    "게임 캐릭터가 있는 칸의 좌표 (A,B), 바라보는 방향 d\n",
    "\n",
    "1. 현재 위치에서 현재 방향을 기준으로 왼쪽 방향부터 차례대로 갈 곳을 정한다.\n",
    "\n",
    "2. 캐릭터의 바로 왼쪽 방향에 아직 가보지 않은 칸이 존재한다면, 왼쪽 방향으로 회전한 다음 왼쪽으롤 한 칸을 전진한다. 왼쪽방향에 가보지 않은 칸이 없다면, 왼쪽 방향으로 회전만 수행하고 1단계로 돌아간다.\n",
    "\n",
    "3. 만약 네 방향 모두 이미 가본 칸이거나 바다로 되어있다면, 바라보는 방향을 유지한 채로 한 칸 뒤로 가고 1단계로 돌아간다. 단, 이때 뒤쪽 방향이 바다인 칸이라 뒤로 갈 수 없는 경우에는 움직임을 멈춘다.\n",
    "\n",
    "메뉴얼에 따라 캐릭터를 이동시킨 뒤에, 캐릭터가 방문한 칸의 수를 출력하시오."
   ]
  },
  {
   "cell_type": "code",
   "execution_count": null,
   "metadata": {},
   "outputs": [],
   "source": [
    "n, m = map(int, input().split())\n",
    "\n",
    "# 방문한 위치를 저장하기 위한 맵을 생성하여 0으로 초기화\n",
    "d = [ [0] * m for _ in range(n) ]\n",
    "\n",
    "# 현재 캐릭터의 x, y 좌표, 방향 입력\n",
    "x, y, direction = map(int, input().split())\n",
    "\n",
    "\n",
    "\n",
    "# 전체 맵 정보 입력받기\n",
    "array = []\n",
    "\n",
    "for i in range(n):\n",
    "    array.append( list(map(int, input().split())) )\n",
    "\n",
    "# 북, 동, 남, 서 방향 정의\n",
    "dx = [-1, 0, 1, 0]\n",
    "dy = [0, 1, 0, -1]\n",
    "\n",
    "\n",
    "\n",
    "# 왼쪽으로 회전\n",
    "def turn_left():\n",
    "    global direction\n",
    "    direction -= 1\n",
    "\n",
    "    if direction == -1:\n",
    "        directoin = 3\n",
    "\n",
    "\n",
    "# 시뮬레이션 시작\n",
    "count = 1\n",
    "turn_time = 0\n",
    "\n",
    "while True:\n",
    "    # 왼쪽으로 회전\n",
    "    turn_left()\n",
    "\n",
    "    nx = x + dx[direction]\n",
    "    ny = y + dy[direction]\n",
    "\n",
    "    # 회전한 이후 정면에 가보지 않은 칸이 존재하는 경우 -> 이동\n",
    "    if d[nx][ny] == 0 and array[nx][ny] == 0:\n",
    "        d[nx][ny] = 1\n",
    "        x = nx\n",
    "        y = ny\n",
    "\n",
    "        count += 1\n",
    "        turn_time = 0\n",
    "\n",
    "        continue\n",
    "\n",
    "\n",
    "    # 회전한 이후 정면에 가보지 않은 칸이 없거나 바다인 경우\n",
    "    else:\n",
    "        turn_time += 1\n",
    "\n",
    "\n",
    "    # 네 방향 모두 갈 수 없는 경우\n",
    "    if turn_time == 4:\n",
    "        \n",
    "        nx = x - dx[direction]\n",
    "        ny = y - dy[direction]\n",
    "\n",
    "        # 뒤로 갈 수 있다면 이동하기\n",
    "        if array[nx][ny] == 0 :\n",
    "            x = nx\n",
    "            y = ny\n",
    "\n",
    "        # 뒤가 바다로 막혀있는 경우\n",
    "        else:\n",
    "            break\n",
    "\n",
    "        turn_time = 0\n",
    "\n",
    "\n",
    "print(count)\n",
    "\n",
    "\n",
    "\n"
   ]
  },
  {
   "cell_type": "markdown",
   "metadata": {},
   "source": [
    "* note : 입력받은 맵과, 밟은 땅 맵을 따로 만든다. direction을 전역변수로 설정한다. 가본 방향을 turn_time으로 확인한다."
   ]
  },
  {
   "cell_type": "code",
   "execution_count": null,
   "metadata": {},
   "outputs": [],
   "source": [
    "n, m = map(int, input().split())\n",
    "x, y, direction = map(int, input().split())\n",
    "\n",
    "# 맵 입력받기 (이중리스트)\n",
    "array = []\n",
    "for i in range(n):\n",
    "    array.append( list(map(int, input().split())) )\n",
    "\n",
    "\n",
    "# 방문 위치를 저장하기 위한 맵\n",
    "d = [ [0] * m for _ in range(n) ] \n",
    "\n",
    "\n",
    "# 왼쪽 회전 함수\n",
    "def turn_left():\n",
    "    global direction\n",
    "    direction -= 1\n",
    "\n",
    "    if direction == -1:\n",
    "        direction == 3\n",
    "\n",
    "\n",
    "\n",
    "# 시뮬레이션 시작\n",
    "\n",
    "\n",
    "    \n",
    "\n",
    "    "
   ]
  }
 ],
 "metadata": {
  "kernelspec": {
   "display_name": "midoi",
   "language": "python",
   "name": "python3"
  },
  "language_info": {
   "codemirror_mode": {
    "name": "ipython",
    "version": 3
   },
   "file_extension": ".py",
   "mimetype": "text/x-python",
   "name": "python",
   "nbconvert_exporter": "python",
   "pygments_lexer": "ipython3",
   "version": "3.11.4"
  },
  "orig_nbformat": 4
 },
 "nbformat": 4,
 "nbformat_minor": 2
}
